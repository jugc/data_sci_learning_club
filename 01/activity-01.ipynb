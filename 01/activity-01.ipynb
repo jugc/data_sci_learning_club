{
 "cells": [
  {
   "cell_type": "markdown",
   "metadata": {},
   "source": [
    "# Activity 01\n",
    "**Objective:** Find, import and explore a dataset.\n",
    "\n",
    "I have chosen a the dataset on [Water Consumption in a Median Size City](https://www.kaggle.com/marcomolina/water-consumption-in-a-median-size-city). \n",
    "\n",
    "From the source: *\"The dataset contains the following variables: water consumption per user (cubic meters) from 2009 to 2016, land use, type of user (e.g. industrial, housing, public infrastructure, etc.), zip code, and others. The challenge is to treat NAs in a way that do not distort the overall dataset. This dataset is property of a local water provider called AguaH and its part of a research developed between 2014 and 2016. The work that has been done in this data is a time series in order to identify consumer behaviour. We want to identify where the consumption is higher in order to improve the distribution in a city with water scarcity.\"*"
   ]
  },
  {
   "cell_type": "code",
   "execution_count": 1,
   "metadata": {
    "collapsed": true
   },
   "outputs": [],
   "source": [
    "import pandas as pd"
   ]
  },
  {
   "cell_type": "code",
   "execution_count": 3,
   "metadata": {
    "collapsed": false
   },
   "outputs": [],
   "source": [
    "df = pd.read_csv('../datasets/AguaH.csv')"
   ]
  },
  {
   "cell_type": "code",
   "execution_count": null,
   "metadata": {
    "collapsed": true
   },
   "outputs": [],
   "source": []
  }
 ],
 "metadata": {
  "kernelspec": {
   "display_name": "Python 2",
   "language": "python",
   "name": "python2"
  },
  "language_info": {
   "codemirror_mode": {
    "name": "ipython",
    "version": 2
   },
   "file_extension": ".py",
   "mimetype": "text/x-python",
   "name": "python",
   "nbconvert_exporter": "python",
   "pygments_lexer": "ipython2",
   "version": "2.7.11"
  }
 },
 "nbformat": 4,
 "nbformat_minor": 0
}
