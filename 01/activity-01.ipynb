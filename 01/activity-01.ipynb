{
 "cells": [
  {
   "cell_type": "markdown",
   "metadata": {},
   "source": [
    "# Activity 01\n",
    "**Objective:** Find, import and explore a dataset.\n",
    "\n",
    "I have chosen a the dataset on information about the world's tallest [mountains](https://www.kaggle.com/abcsds/highest-mountains). \n",
    "\n",
    "**Data description from the source:** \n",
    "\n",
    "Wikipedias list of world's highest mountains. Shared as stated on wikipedias webpage under the Creative Commons Attribution-ShareAlike License\n",
    "\n",
    "The columns are:\n",
    "\n",
    "* Rank: Position in the rank of highest mountains in the world. (Integer)<br>\n",
    "* Mountain: Name or names of the mountain. (Text separated by slashes)<br>\n",
    "* Height (m): Height in meters of the mountain. (Integer)<br>\n",
    "* Height (ft): Height in feet of the mountain. (Integer)<br>\n",
    "* Prominence (m): [Topographic prominence](https://en.wikipedia.org/wiki/Topographic_prominence) of the mountain in meters. (Integer)<br>\n",
    "* Range: What mountain range does this mountain belong to. (Text)<br>\n",
    "* Coordinates: Coordenates of the highest point. (Text in [WGS84](https://en.wikipedia.org/wiki/World_Geodetic_System) format)<br>\n",
    "* Parent mountain: [Line parent](https://en.wikipedia.org/wiki/Line_parent) of the mountain. (Text)<br>\n",
    "* First ascent: Year of first ascent. (Year-formatted Integer)<br>\n",
    "* Ascents bef. 2004: Number of successful ascents before 2004. (Integer)<br>\n",
    "* Failed attempts bef. 2004: Number of unsuccessful ascents before 2004. (Integer)\n"
   ]
  },
  {
   "cell_type": "markdown",
   "metadata": {},
   "source": [
    "## Summary of the dataset\n",
    "\n",
    "As you can see in the code below, this is a small dataset containing **118** rows and **11** columns. There is also a good mix of data types within the data including floats, ints and different types of objects (like the coordinates, for example).\n",
    "\n",
    "The first five rows are shown with the method `head()`. The default number of rows to show is five. The data is given in descending order based on the height, hence Everest is number one. From here, we can also see that the higher mountains are in the Himalaya range. The method `info()` gives a summary of each column, number of rows and columns, and the data type of the data on each column."
   ]
  },
  {
   "cell_type": "code",
   "execution_count": 33,
   "metadata": {
    "collapsed": false
   },
   "outputs": [
    {
     "name": "stdout",
     "output_type": "stream",
     "text": [
      "The total number of rows and colums in the dataset is 118 and 11, respectively\n"
     ]
    },
    {
     "data": {
      "text/html": [
       "<div>\n",
       "<table border=\"1\" class=\"dataframe\">\n",
       "  <thead>\n",
       "    <tr style=\"text-align: right;\">\n",
       "      <th></th>\n",
       "      <th>Rank</th>\n",
       "      <th>Mountain</th>\n",
       "      <th>Height (m)</th>\n",
       "      <th>Height (ft)</th>\n",
       "      <th>Prominence (m)</th>\n",
       "      <th>Range</th>\n",
       "      <th>Coordinates</th>\n",
       "      <th>Parent mountain</th>\n",
       "      <th>First ascent</th>\n",
       "      <th>Ascents bef. 2004</th>\n",
       "      <th>Failed attempts bef. 2004</th>\n",
       "    </tr>\n",
       "  </thead>\n",
       "  <tbody>\n",
       "    <tr>\n",
       "      <th>0</th>\n",
       "      <td>1</td>\n",
       "      <td>Mount Everest / Sagarmatha / Chomolungma</td>\n",
       "      <td>8848</td>\n",
       "      <td>29029</td>\n",
       "      <td>8848</td>\n",
       "      <td>Mahalangur Himalaya</td>\n",
       "      <td>27°59′17″N 86°55′31″E﻿</td>\n",
       "      <td>NaN</td>\n",
       "      <td>1953</td>\n",
       "      <td>&gt;&gt;145</td>\n",
       "      <td>121.0</td>\n",
       "    </tr>\n",
       "    <tr>\n",
       "      <th>1</th>\n",
       "      <td>2</td>\n",
       "      <td>K2 / Qogir / Godwin Austen</td>\n",
       "      <td>8611</td>\n",
       "      <td>28251</td>\n",
       "      <td>4017</td>\n",
       "      <td>Baltoro Karakoram</td>\n",
       "      <td>35°52′53″N 76°30′48″E﻿</td>\n",
       "      <td>Mount Everest</td>\n",
       "      <td>1954</td>\n",
       "      <td>45</td>\n",
       "      <td>44.0</td>\n",
       "    </tr>\n",
       "    <tr>\n",
       "      <th>2</th>\n",
       "      <td>3</td>\n",
       "      <td>Kangchenjunga</td>\n",
       "      <td>8586</td>\n",
       "      <td>28169</td>\n",
       "      <td>3922</td>\n",
       "      <td>Kangchenjunga Himalaya</td>\n",
       "      <td>27°42′12″N 88°08′51″E﻿</td>\n",
       "      <td>Mount Everest</td>\n",
       "      <td>1955</td>\n",
       "      <td>38</td>\n",
       "      <td>24.0</td>\n",
       "    </tr>\n",
       "    <tr>\n",
       "      <th>3</th>\n",
       "      <td>4</td>\n",
       "      <td>Lhotse</td>\n",
       "      <td>8516</td>\n",
       "      <td>27940</td>\n",
       "      <td>610</td>\n",
       "      <td>Mahalangur Himalaya</td>\n",
       "      <td>27°57′42″N 86°55′59″E﻿</td>\n",
       "      <td>Mount Everest</td>\n",
       "      <td>1956</td>\n",
       "      <td>26</td>\n",
       "      <td>26.0</td>\n",
       "    </tr>\n",
       "    <tr>\n",
       "      <th>4</th>\n",
       "      <td>5</td>\n",
       "      <td>Makalu</td>\n",
       "      <td>8485</td>\n",
       "      <td>27838</td>\n",
       "      <td>2386</td>\n",
       "      <td>Mahalangur Himalaya</td>\n",
       "      <td>27°53′23″N 87°05′20″E﻿</td>\n",
       "      <td>Mount Everest</td>\n",
       "      <td>1955</td>\n",
       "      <td>45</td>\n",
       "      <td>52.0</td>\n",
       "    </tr>\n",
       "  </tbody>\n",
       "</table>\n",
       "</div>"
      ],
      "text/plain": [
       "   Rank                                  Mountain  Height (m)  Height (ft)  \\\n",
       "0     1  Mount Everest / Sagarmatha / Chomolungma        8848        29029   \n",
       "1     2                K2 / Qogir / Godwin Austen        8611        28251   \n",
       "2     3                             Kangchenjunga        8586        28169   \n",
       "3     4                                    Lhotse        8516        27940   \n",
       "4     5                                    Makalu        8485        27838   \n",
       "\n",
       "   Prominence (m)                   Range              Coordinates  \\\n",
       "0            8848     Mahalangur Himalaya  27°59′17″N 86°55′31″E﻿    \n",
       "1            4017       Baltoro Karakoram  35°52′53″N 76°30′48″E﻿    \n",
       "2            3922  Kangchenjunga Himalaya  27°42′12″N 88°08′51″E﻿    \n",
       "3             610     Mahalangur Himalaya  27°57′42″N 86°55′59″E﻿    \n",
       "4            2386     Mahalangur Himalaya  27°53′23″N 87°05′20″E﻿    \n",
       "\n",
       "  Parent mountain First ascent Ascents bef. 2004  Failed attempts bef. 2004  \n",
       "0             NaN         1953            >>145                       121.0  \n",
       "1   Mount Everest         1954                45                       44.0  \n",
       "2   Mount Everest         1955                38                       24.0  \n",
       "3   Mount Everest         1956                26                       26.0  \n",
       "4   Mount Everest         1955                45                       52.0  "
      ]
     },
     "execution_count": 33,
     "metadata": {},
     "output_type": "execute_result"
    }
   ],
   "source": [
    "import pandas as pd\n",
    "\n",
    "# Import the data from CSV as a panda DataFrame object\n",
    "mountains = pd.read_csv('../datasets/Mountains.csv')\n",
    "\n",
    "dim = mountains.shape\n",
    "print \"The total number of rows and colums in the dataset is \"+str(dim[0])+\" and \"+str(dim[1])+\", respectively\"\n",
    "\n",
    "# Show the first 5 rows of the dataframe\n",
    "mountains.head()\n"
   ]
  },
  {
   "cell_type": "code",
   "execution_count": 13,
   "metadata": {
    "collapsed": false
   },
   "outputs": [
    {
     "name": "stdout",
     "output_type": "stream",
     "text": [
      "<class 'pandas.core.frame.DataFrame'>\n",
      "RangeIndex: 118 entries, 0 to 117\n",
      "Data columns (total 11 columns):\n",
      "Rank                         118 non-null int64\n",
      "Mountain                     118 non-null object\n",
      "Height (m)                   118 non-null int64\n",
      "Height (ft)                  118 non-null int64\n",
      "Prominence (m)               118 non-null int64\n",
      "Range                        118 non-null object\n",
      "Coordinates                  118 non-null object\n",
      "Parent mountain              117 non-null object\n",
      "First ascent                 118 non-null object\n",
      "Ascents bef. 2004            116 non-null object\n",
      "Failed attempts bef. 2004    115 non-null float64\n",
      "dtypes: float64(1), int64(4), object(6)\n",
      "memory usage: 10.2+ KB\n",
      "None\n"
     ]
    }
   ],
   "source": [
    "print(mountains.info())"
   ]
  },
  {
   "cell_type": "markdown",
   "metadata": {
    "collapsed": true
   },
   "source": [
    "## Extracting specific data points\n",
    "\n",
    "Initially, we could just extract a random row just to see the information. The method `.loc[]` is used to select rows (with a valid index, otherwise it will return an error). For example, let's see what is the 20th hghest mountain in the world:"
   ]
  },
  {
   "cell_type": "code",
   "execution_count": 36,
   "metadata": {
    "collapsed": false
   },
   "outputs": [
    {
     "name": "stdout",
     "output_type": "stream",
     "text": [
      "Rank                                              19\n",
      "Mountain                               Distaghil Sar\n",
      "Height (m)                                      7884\n",
      "Height (ft)                                    25866\n",
      "Prominence (m)                                  2525\n",
      "Range                               Hispar Karakoram\n",
      "Coordinates                  36°19′33″N 75°11′16″E﻿ \n",
      "Parent mountain                                   K2\n",
      "First ascent                                    1960\n",
      "Ascents bef. 2004                                  3\n",
      "Failed attempts bef. 2004                          5\n",
      "Name: 19, dtype: object\n"
     ]
    }
   ],
   "source": [
    "# Notice that the rows are 0 indexed, hence the 20th row is indexed as 19\n",
    "row20 = mountains.loc[19]\n",
    "print(row20)"
   ]
  },
  {
   "cell_type": "markdown",
   "metadata": {},
   "source": [
    "The method `.loc[]` is nice because it returns an object with the data for the specified row and the labels for each column, which makes it more readable. In this particular example, we can see that even though the first ascent was on 1960, there has only been 8 attemps with only 3 being successful. At 7884 m this is a pretty high mountain on a remote location. <br>\n",
    "Similar to the use of indexes with python lists, we can extract multiple rows by chosing a range of rows `[n:m]` or a list of rows `[n,m,k]`:"
   ]
  },
  {
   "cell_type": "code",
   "execution_count": 26,
   "metadata": {
    "collapsed": false
   },
   "outputs": [
    {
     "name": "stdout",
     "output_type": "stream",
     "text": [
      "    Rank         Mountain  Height (m)  Height (ft)  Prominence (m)  \\\n",
      "19    19    Distaghil Sar        7884        25866            2525   \n",
      "20    20      Ngadi Chuli        7871        25823            1020   \n",
      "21   111           Nuptse        7864        25801             319   \n",
      "22    21  Khunyang Chhish        7823        25666            1765   \n",
      "\n",
      "                  Range              Coordinates Parent mountain First ascent  \\\n",
      "19     Hispar Karakoram  36°19′33″N 75°11′16″E﻿               K2         1960   \n",
      "20     Manaslu Himalaya  28°30′12″N 84°34′00″E﻿          Manaslu         1970   \n",
      "21  Mahalangur Himalaya  27°58′03″N 86°53′13″E﻿           Lhotse         1961   \n",
      "22     Hispar Karakoram  36°12′19″N 75°12′28″E﻿    Distaghil Sar         1971   \n",
      "\n",
      "   Ascents bef. 2004  Failed attempts bef. 2004  \n",
      "19                 3                        5.0  \n",
      "20                 2                        6.0  \n",
      "21                 5                       12.0  \n",
      "22                 2                        6.0  \n"
     ]
    }
   ],
   "source": [
    "rows20_23 = mountains.loc[19:22]\n",
    "print(rows20_23)"
   ]
  },
  {
   "cell_type": "code",
   "execution_count": 28,
   "metadata": {
    "collapsed": false
   },
   "outputs": [
    {
     "name": "stdout",
     "output_type": "stream",
     "text": [
      "    Rank           Mountain  Height (m)  Height (ft)  Prominence (m)  \\\n",
      "3      4             Lhotse        8516        27940             610   \n",
      "67    62  Yangra / Ganesh I        7422        24350            2352   \n",
      "83    77      Nangpai Gosum        7350        24114             500   \n",
      "\n",
      "                  Range              Coordinates Parent mountain First ascent  \\\n",
      "3   Mahalangur Himalaya  27°57′42″N 86°55′59″E﻿    Mount Everest         1956   \n",
      "67      Ganesh Himalaya  28°23′29″N 85°07′38″E﻿          Manaslu         1955   \n",
      "83  Mahalangur Himalaya  28°04′24″N 86°36′51″E﻿          Cho Oyu         1996   \n",
      "\n",
      "   Ascents bef. 2004  Failed attempts bef. 2004  \n",
      "3                 26                       26.0  \n",
      "67                 1                        6.0  \n",
      "83                 3                        1.0  \n"
     ]
    }
   ],
   "source": [
    "# Noticed that the sintax for indexing non-consecutive rows is a python list inside the loc's brackets\n",
    "random_rows = mountains.loc[[3,67,83]]\n",
    "print(random_rows)"
   ]
  },
  {
   "cell_type": "markdown",
   "metadata": {},
   "source": [
    "For accessing a column, it s as easy as using bracket notation and the string corresponding to the column name. For example, if we wanted to see all the entries corresponding to the **Range** column, we will do: `mountains[\"Range\"]`. Python returns a Series object that contains the values corresponding to that column, along with the row numbers for each entry. An example is not shown here because it will populate a large part of the notebook.<br>\n",
    "We can combine the two previous examples that show how to address a row and a column in order to extract a particular entry in the dataset. Taking the previous example for the 20th highest mountain, we could ask: ***where is this mountain located?***"
   ]
  },
  {
   "cell_type": "code",
   "execution_count": 31,
   "metadata": {
    "collapsed": false
   },
   "outputs": [
    {
     "name": "stdout",
     "output_type": "stream",
     "text": [
      "36°19′33″N 75°11′16″E﻿ \n"
     ]
    }
   ],
   "source": [
    "coordinates_mount_20 = mountains.loc[19][\"Coordinates\"]\n",
    "print(coordinates_mount_20)"
   ]
  },
  {
   "cell_type": "markdown",
   "metadata": {},
   "source": [
    "The result shows the coordinates of **Distaghil Sar**"
   ]
  },
  {
   "cell_type": "markdown",
   "metadata": {},
   "source": [
    "## Descriptive statistics\n",
    "\n",
    "In order to get a [statistical summary](http://pandas.pydata.org/pandas-docs/stable/generated/pandas.DataFrame.describe.html) of the **numerical** values in our dataset, we can use the method `.describe()`.\n",
    "\n"
   ]
  },
  {
   "cell_type": "code",
   "execution_count": 39,
   "metadata": {
    "collapsed": false
   },
   "outputs": [
    {
     "data": {
      "text/html": [
       "<div>\n",
       "<table border=\"1\" class=\"dataframe\">\n",
       "  <thead>\n",
       "    <tr style=\"text-align: right;\">\n",
       "      <th></th>\n",
       "      <th>Rank</th>\n",
       "      <th>Height (m)</th>\n",
       "      <th>Height (ft)</th>\n",
       "      <th>Prominence (m)</th>\n",
       "      <th>Failed attempts bef. 2004</th>\n",
       "    </tr>\n",
       "  </thead>\n",
       "  <tbody>\n",
       "    <tr>\n",
       "      <th>count</th>\n",
       "      <td>118.000000</td>\n",
       "      <td>118.000000</td>\n",
       "      <td>118.000000</td>\n",
       "      <td>118.000000</td>\n",
       "      <td>115.000000</td>\n",
       "    </tr>\n",
       "    <tr>\n",
       "      <th>mean</th>\n",
       "      <td>59.500000</td>\n",
       "      <td>7578.042373</td>\n",
       "      <td>24862.364407</td>\n",
       "      <td>1671.567797</td>\n",
       "      <td>8.400000</td>\n",
       "    </tr>\n",
       "    <tr>\n",
       "      <th>std</th>\n",
       "      <td>34.207699</td>\n",
       "      <td>341.471211</td>\n",
       "      <td>1120.311905</td>\n",
       "      <td>1234.813419</td>\n",
       "      <td>15.782958</td>\n",
       "    </tr>\n",
       "    <tr>\n",
       "      <th>min</th>\n",
       "      <td>1.000000</td>\n",
       "      <td>7200.000000</td>\n",
       "      <td>23622.000000</td>\n",
       "      <td>217.000000</td>\n",
       "      <td>0.000000</td>\n",
       "    </tr>\n",
       "    <tr>\n",
       "      <th>25%</th>\n",
       "      <td>30.250000</td>\n",
       "      <td>7316.500000</td>\n",
       "      <td>24004.000000</td>\n",
       "      <td>712.750000</td>\n",
       "      <td>1.000000</td>\n",
       "    </tr>\n",
       "    <tr>\n",
       "      <th>50%</th>\n",
       "      <td>59.500000</td>\n",
       "      <td>7472.500000</td>\n",
       "      <td>24516.500000</td>\n",
       "      <td>1332.500000</td>\n",
       "      <td>3.000000</td>\n",
       "    </tr>\n",
       "    <tr>\n",
       "      <th>75%</th>\n",
       "      <td>88.750000</td>\n",
       "      <td>7775.500000</td>\n",
       "      <td>25509.750000</td>\n",
       "      <td>2297.250000</td>\n",
       "      <td>11.000000</td>\n",
       "    </tr>\n",
       "    <tr>\n",
       "      <th>max</th>\n",
       "      <td>118.000000</td>\n",
       "      <td>8848.000000</td>\n",
       "      <td>29029.000000</td>\n",
       "      <td>8848.000000</td>\n",
       "      <td>121.000000</td>\n",
       "    </tr>\n",
       "  </tbody>\n",
       "</table>\n",
       "</div>"
      ],
      "text/plain": [
       "             Rank   Height (m)   Height (ft)  Prominence (m)  \\\n",
       "count  118.000000   118.000000    118.000000      118.000000   \n",
       "mean    59.500000  7578.042373  24862.364407     1671.567797   \n",
       "std     34.207699   341.471211   1120.311905     1234.813419   \n",
       "min      1.000000  7200.000000  23622.000000      217.000000   \n",
       "25%     30.250000  7316.500000  24004.000000      712.750000   \n",
       "50%     59.500000  7472.500000  24516.500000     1332.500000   \n",
       "75%     88.750000  7775.500000  25509.750000     2297.250000   \n",
       "max    118.000000  8848.000000  29029.000000     8848.000000   \n",
       "\n",
       "       Failed attempts bef. 2004  \n",
       "count                 115.000000  \n",
       "mean                    8.400000  \n",
       "std                    15.782958  \n",
       "min                     0.000000  \n",
       "25%                     1.000000  \n",
       "50%                     3.000000  \n",
       "75%                    11.000000  \n",
       "max                   121.000000  "
      ]
     },
     "execution_count": 39,
     "metadata": {},
     "output_type": "execute_result"
    }
   ],
   "source": [
    "mountains.describe()"
   ]
  },
  {
   "cell_type": "markdown",
   "metadata": {},
   "source": [
    "This method excludes the NaN values as well. We can see that we are missing 3 values from the column *Failed attempts bef. 2004* (see variable **cont**). Moreover, the 75th percentile tells us that only 25% of the mountains on the list are above 7775.5 m."
   ]
  },
  {
   "cell_type": "code",
   "execution_count": null,
   "metadata": {
    "collapsed": true
   },
   "outputs": [],
   "source": []
  }
 ],
 "metadata": {
  "kernelspec": {
   "display_name": "Python 2",
   "language": "python",
   "name": "python2"
  },
  "language_info": {
   "codemirror_mode": {
    "name": "ipython",
    "version": 2
   },
   "file_extension": ".py",
   "mimetype": "text/x-python",
   "name": "python",
   "nbconvert_exporter": "python",
   "pygments_lexer": "ipython2",
   "version": "2.7.11"
  }
 },
 "nbformat": 4,
 "nbformat_minor": 0
}
