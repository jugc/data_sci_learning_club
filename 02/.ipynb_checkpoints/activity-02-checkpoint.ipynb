{
 "cells": [
  {
   "cell_type": "markdown",
   "metadata": {},
   "source": [
    "# Activity 2\n",
    "\n",
    "**Objective:** To use data visualization as an exploratory tool for the data\n",
    "\n",
    "In this activity, I will continue exploring the [Mountains dataset](https://www.kaggle.com/abcsds/highest-mountains).\n",
    "\n",
    "As a reminer, I will bring up the information of the dataset just to setup the stage for doing the analysis."
   ]
  },
  {
   "cell_type": "code",
   "execution_count": 1,
   "metadata": {
    "collapsed": false
   },
   "outputs": [
    {
     "data": {
      "text/html": [
       "<div>\n",
       "<table border=\"1\" class=\"dataframe\">\n",
       "  <thead>\n",
       "    <tr style=\"text-align: right;\">\n",
       "      <th></th>\n",
       "      <th>Rank</th>\n",
       "      <th>Mountain</th>\n",
       "      <th>Height (m)</th>\n",
       "      <th>Height (ft)</th>\n",
       "      <th>Prominence (m)</th>\n",
       "      <th>Range</th>\n",
       "      <th>Coordinates</th>\n",
       "      <th>Parent mountain</th>\n",
       "      <th>First ascent</th>\n",
       "      <th>Ascents bef. 2004</th>\n",
       "      <th>Failed attempts bef. 2004</th>\n",
       "    </tr>\n",
       "  </thead>\n",
       "  <tbody>\n",
       "    <tr>\n",
       "      <th>0</th>\n",
       "      <td>1</td>\n",
       "      <td>Mount Everest / Sagarmatha / Chomolungma</td>\n",
       "      <td>8848</td>\n",
       "      <td>29029</td>\n",
       "      <td>8848</td>\n",
       "      <td>Mahalangur Himalaya</td>\n",
       "      <td>27°59′17″N 86°55′31″E﻿</td>\n",
       "      <td>NaN</td>\n",
       "      <td>1953</td>\n",
       "      <td>&gt;&gt;145</td>\n",
       "      <td>121.0</td>\n",
       "    </tr>\n",
       "    <tr>\n",
       "      <th>1</th>\n",
       "      <td>2</td>\n",
       "      <td>K2 / Qogir / Godwin Austen</td>\n",
       "      <td>8611</td>\n",
       "      <td>28251</td>\n",
       "      <td>4017</td>\n",
       "      <td>Baltoro Karakoram</td>\n",
       "      <td>35°52′53″N 76°30′48″E﻿</td>\n",
       "      <td>Mount Everest</td>\n",
       "      <td>1954</td>\n",
       "      <td>45</td>\n",
       "      <td>44.0</td>\n",
       "    </tr>\n",
       "    <tr>\n",
       "      <th>2</th>\n",
       "      <td>3</td>\n",
       "      <td>Kangchenjunga</td>\n",
       "      <td>8586</td>\n",
       "      <td>28169</td>\n",
       "      <td>3922</td>\n",
       "      <td>Kangchenjunga Himalaya</td>\n",
       "      <td>27°42′12″N 88°08′51″E﻿</td>\n",
       "      <td>Mount Everest</td>\n",
       "      <td>1955</td>\n",
       "      <td>38</td>\n",
       "      <td>24.0</td>\n",
       "    </tr>\n",
       "    <tr>\n",
       "      <th>3</th>\n",
       "      <td>4</td>\n",
       "      <td>Lhotse</td>\n",
       "      <td>8516</td>\n",
       "      <td>27940</td>\n",
       "      <td>610</td>\n",
       "      <td>Mahalangur Himalaya</td>\n",
       "      <td>27°57′42″N 86°55′59″E﻿</td>\n",
       "      <td>Mount Everest</td>\n",
       "      <td>1956</td>\n",
       "      <td>26</td>\n",
       "      <td>26.0</td>\n",
       "    </tr>\n",
       "    <tr>\n",
       "      <th>4</th>\n",
       "      <td>5</td>\n",
       "      <td>Makalu</td>\n",
       "      <td>8485</td>\n",
       "      <td>27838</td>\n",
       "      <td>2386</td>\n",
       "      <td>Mahalangur Himalaya</td>\n",
       "      <td>27°53′23″N 87°05′20″E﻿</td>\n",
       "      <td>Mount Everest</td>\n",
       "      <td>1955</td>\n",
       "      <td>45</td>\n",
       "      <td>52.0</td>\n",
       "    </tr>\n",
       "  </tbody>\n",
       "</table>\n",
       "</div>"
      ],
      "text/plain": [
       "   Rank                                  Mountain  Height (m)  Height (ft)  \\\n",
       "0     1  Mount Everest / Sagarmatha / Chomolungma        8848        29029   \n",
       "1     2                K2 / Qogir / Godwin Austen        8611        28251   \n",
       "2     3                             Kangchenjunga        8586        28169   \n",
       "3     4                                    Lhotse        8516        27940   \n",
       "4     5                                    Makalu        8485        27838   \n",
       "\n",
       "   Prominence (m)                   Range              Coordinates  \\\n",
       "0            8848     Mahalangur Himalaya  27°59′17″N 86°55′31″E﻿    \n",
       "1            4017       Baltoro Karakoram  35°52′53″N 76°30′48″E﻿    \n",
       "2            3922  Kangchenjunga Himalaya  27°42′12″N 88°08′51″E﻿    \n",
       "3             610     Mahalangur Himalaya  27°57′42″N 86°55′59″E﻿    \n",
       "4            2386     Mahalangur Himalaya  27°53′23″N 87°05′20″E﻿    \n",
       "\n",
       "  Parent mountain First ascent Ascents bef. 2004  Failed attempts bef. 2004  \n",
       "0             NaN         1953            >>145                       121.0  \n",
       "1   Mount Everest         1954                45                       44.0  \n",
       "2   Mount Everest         1955                38                       24.0  \n",
       "3   Mount Everest         1956                26                       26.0  \n",
       "4   Mount Everest         1955                45                       52.0  "
      ]
     },
     "execution_count": 1,
     "metadata": {},
     "output_type": "execute_result"
    }
   ],
   "source": [
    "import pandas as pd\n",
    "\n",
    "# Import the data from CSV as a panda DataFrame object\n",
    "mountains = pd.read_csv('../datasets/Mountains.csv')\n",
    "# Show the first 5 rows of the dataframe\n",
    "mountains.head()"
   ]
  },
  {
   "cell_type": "markdown",
   "metadata": {},
   "source": [
    "We can see that there is some interesting information about the mountains related to their geography with a mix of mountaineering history -- which is great! This is my way to learn more about the greatest mountain ranges in the world, because as a climber, that is something I should know, right? \n",
    "\n",
    "My work in this activity will focus in answering the following questions:\n",
    "1. What is the range with the highest mountains?\n",
    "2. Is there a correlation between the number of successful ascents and the height of the mountains?\n",
    "3. In which range do we find the mountains with more failed attempts than actual acsents?\n",
    "4. Is there a correlation between the Prominence and the success of an expedition?\n",
    "5. Which is the most remote mountain in the dataset?\n",
    "\n",
    "Some of the questions in the list are kind of obvious (at least to me), but I will go ahead with the exercise just to practice my coding, and who knows, I might be surprised..."
   ]
  },
  {
   "cell_type": "code",
   "execution_count": null,
   "metadata": {
    "collapsed": true
   },
   "outputs": [],
   "source": []
  }
 ],
 "metadata": {
  "kernelspec": {
   "display_name": "Python 2",
   "language": "python",
   "name": "python2"
  },
  "language_info": {
   "codemirror_mode": {
    "name": "ipython",
    "version": 2
   },
   "file_extension": ".py",
   "mimetype": "text/x-python",
   "name": "python",
   "nbconvert_exporter": "python",
   "pygments_lexer": "ipython2",
   "version": "2.7.11"
  }
 },
 "nbformat": 4,
 "nbformat_minor": 0
}
