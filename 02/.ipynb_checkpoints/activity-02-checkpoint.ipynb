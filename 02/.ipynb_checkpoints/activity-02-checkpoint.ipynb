{
 "cells": [
  {
   "cell_type": "markdown",
   "metadata": {},
   "source": [
    "# Activity 2\n",
    "\n",
    "**Objective:** To use data visualization as an exploratory tool for the data\n",
    "\n",
    "In this activity, I will continue exploring the [Mountains dataset](https://www.kaggle.com/abcsds/highest-mountains).\n",
    "\n",
    "As a reminer, I will bring up the information of the dataset just to setup the stage for doing the analysis."
   ]
  },
  {
   "cell_type": "code",
   "execution_count": 6,
   "metadata": {
    "collapsed": false
   },
   "outputs": [
    {
     "data": {
      "text/html": [
       "<div>\n",
       "<table border=\"1\" class=\"dataframe\">\n",
       "  <thead>\n",
       "    <tr style=\"text-align: right;\">\n",
       "      <th></th>\n",
       "      <th>Rank</th>\n",
       "      <th>Mountain</th>\n",
       "      <th>Height (m)</th>\n",
       "      <th>Height (ft)</th>\n",
       "      <th>Prominence (m)</th>\n",
       "      <th>Range</th>\n",
       "      <th>Coordinates</th>\n",
       "      <th>Parent mountain</th>\n",
       "      <th>First ascent</th>\n",
       "      <th>Ascents bef. 2004</th>\n",
       "      <th>Failed attempts bef. 2004</th>\n",
       "    </tr>\n",
       "  </thead>\n",
       "  <tbody>\n",
       "    <tr>\n",
       "      <th>0</th>\n",
       "      <td>1</td>\n",
       "      <td>Mount Everest / Sagarmatha / Chomolungma</td>\n",
       "      <td>8848</td>\n",
       "      <td>29029</td>\n",
       "      <td>8848</td>\n",
       "      <td>Mahalangur Himalaya</td>\n",
       "      <td>27°59′17″N 86°55′31″E﻿</td>\n",
       "      <td>NaN</td>\n",
       "      <td>1953</td>\n",
       "      <td>&gt;&gt;145</td>\n",
       "      <td>121.0</td>\n",
       "    </tr>\n",
       "    <tr>\n",
       "      <th>1</th>\n",
       "      <td>2</td>\n",
       "      <td>K2 / Qogir / Godwin Austen</td>\n",
       "      <td>8611</td>\n",
       "      <td>28251</td>\n",
       "      <td>4017</td>\n",
       "      <td>Baltoro Karakoram</td>\n",
       "      <td>35°52′53″N 76°30′48″E﻿</td>\n",
       "      <td>Mount Everest</td>\n",
       "      <td>1954</td>\n",
       "      <td>45</td>\n",
       "      <td>44.0</td>\n",
       "    </tr>\n",
       "    <tr>\n",
       "      <th>2</th>\n",
       "      <td>3</td>\n",
       "      <td>Kangchenjunga</td>\n",
       "      <td>8586</td>\n",
       "      <td>28169</td>\n",
       "      <td>3922</td>\n",
       "      <td>Kangchenjunga Himalaya</td>\n",
       "      <td>27°42′12″N 88°08′51″E﻿</td>\n",
       "      <td>Mount Everest</td>\n",
       "      <td>1955</td>\n",
       "      <td>38</td>\n",
       "      <td>24.0</td>\n",
       "    </tr>\n",
       "    <tr>\n",
       "      <th>3</th>\n",
       "      <td>4</td>\n",
       "      <td>Lhotse</td>\n",
       "      <td>8516</td>\n",
       "      <td>27940</td>\n",
       "      <td>610</td>\n",
       "      <td>Mahalangur Himalaya</td>\n",
       "      <td>27°57′42″N 86°55′59″E﻿</td>\n",
       "      <td>Mount Everest</td>\n",
       "      <td>1956</td>\n",
       "      <td>26</td>\n",
       "      <td>26.0</td>\n",
       "    </tr>\n",
       "    <tr>\n",
       "      <th>4</th>\n",
       "      <td>5</td>\n",
       "      <td>Makalu</td>\n",
       "      <td>8485</td>\n",
       "      <td>27838</td>\n",
       "      <td>2386</td>\n",
       "      <td>Mahalangur Himalaya</td>\n",
       "      <td>27°53′23″N 87°05′20″E﻿</td>\n",
       "      <td>Mount Everest</td>\n",
       "      <td>1955</td>\n",
       "      <td>45</td>\n",
       "      <td>52.0</td>\n",
       "    </tr>\n",
       "  </tbody>\n",
       "</table>\n",
       "</div>"
      ],
      "text/plain": [
       "   Rank                                  Mountain  Height (m)  Height (ft)  \\\n",
       "0     1  Mount Everest / Sagarmatha / Chomolungma        8848        29029   \n",
       "1     2                K2 / Qogir / Godwin Austen        8611        28251   \n",
       "2     3                             Kangchenjunga        8586        28169   \n",
       "3     4                                    Lhotse        8516        27940   \n",
       "4     5                                    Makalu        8485        27838   \n",
       "\n",
       "   Prominence (m)                   Range              Coordinates  \\\n",
       "0            8848     Mahalangur Himalaya  27°59′17″N 86°55′31″E﻿    \n",
       "1            4017       Baltoro Karakoram  35°52′53″N 76°30′48″E﻿    \n",
       "2            3922  Kangchenjunga Himalaya  27°42′12″N 88°08′51″E﻿    \n",
       "3             610     Mahalangur Himalaya  27°57′42″N 86°55′59″E﻿    \n",
       "4            2386     Mahalangur Himalaya  27°53′23″N 87°05′20″E﻿    \n",
       "\n",
       "  Parent mountain First ascent Ascents bef. 2004  Failed attempts bef. 2004  \n",
       "0             NaN         1953            >>145                       121.0  \n",
       "1   Mount Everest         1954                45                       44.0  \n",
       "2   Mount Everest         1955                38                       24.0  \n",
       "3   Mount Everest         1956                26                       26.0  \n",
       "4   Mount Everest         1955                45                       52.0  "
      ]
     },
     "execution_count": 6,
     "metadata": {},
     "output_type": "execute_result"
    }
   ],
   "source": [
    "import pandas as pd\n",
    "\n",
    "# Import the data from CSV as a panda DataFrame object\n",
    "mountains = pd.read_csv('../datasets/Mountains.csv')\n",
    "# Show the first 5 rows of the dataframe\n",
    "mountains.head()"
   ]
  },
  {
   "cell_type": "markdown",
   "metadata": {},
   "source": [
    "We can see that there is some interesting information about the mountains related to their geography with a mix of mountaineering history -- which is great! This is my way to learn more about the greatest mountain ranges in the world, because as a climber, that is something I should know, right? \n",
    "\n",
    "My work in this activity will focus in answering the following questions:\n",
    "1. What is the range with the highest mountains?\n",
    "2. Is there a correlation between the number of successful ascents and the height of the mountains?\n",
    "3. In which range do we find the mountains with more failed attempts than actual acsents?\n",
    "4. Is there a correlation between the Prominence and the success of an expedition?\n",
    "5. Which is the most remote mountain in the dataset?\n",
    "\n",
    "Some of the questions in the list are kind of obvious (at least to me), but I will go ahead with the exercise just to practice my coding, and who knows, I might be surprised..."
   ]
  },
  {
   "cell_type": "markdown",
   "metadata": {
    "collapsed": true
   },
   "source": [
    "## Housekeeping\n",
    "\n",
    "In the previous activity I miss an important part of data cleaning. I was naive and assume that the data was completly clean. However, upon revision of the results I presented [here](), I noticed that the actual rank for the mountain **Distaghil Sar** is not 20 as I said it was, it is actually 19. But, this means it should have been located in row number 18 (zero-indexing) of the data frrame, right? In reality it is located in row 19, which doesn't make too much sense. Here is a snapshot of the first 21 rows of the dataset. I have included only the columns **Rank**, **Mountains** and **Height (m)** for the sake of clarity."
   ]
  },
  {
   "cell_type": "code",
   "execution_count": 13,
   "metadata": {
    "collapsed": false
   },
   "outputs": [
    {
     "name": "stdout",
     "output_type": "stream",
     "text": [
      "    Rank                                  Mountain  Height (m)\n",
      "0      1  Mount Everest / Sagarmatha / Chomolungma        8848\n",
      "1      2                K2 / Qogir / Godwin Austen        8611\n",
      "2      3                             Kangchenjunga        8586\n",
      "3      4                                    Lhotse        8516\n",
      "4      5                                    Makalu        8485\n",
      "5      6                                   Cho Oyu        8188\n",
      "6      7                              Dhaulagiri I        8167\n",
      "7      8                                   Manaslu        8163\n",
      "8      9                              Nanga Parbat        8126\n",
      "9     10                               Annapurna I        8091\n",
      "10    11           Gasherbrum I / Hidden Peak / K5        8080\n",
      "11    12                           Broad Peak / K3        8051\n",
      "12    13                        Gasherbrum II / K4        8035\n",
      "13    14                              Shishapangma        8027\n",
      "14    15                             Gyachung Kang        7952\n",
      "15   110                            Gasherbrum III        7946\n",
      "16    16                              Annapurna II        7937\n",
      "17    17                             Gasherbrum IV        7932\n",
      "18    18                                Himalchuli        7893\n",
      "19    19                             Distaghil Sar        7884\n",
      "20    20                               Ngadi Chuli        7871\n"
     ]
    }
   ],
   "source": [
    "print(mountains.loc[0:20][[\"Rank\",\"Mountain\",\"Height (m)\"]])"
   ]
  },
  {
   "cell_type": "markdown",
   "metadata": {},
   "source": [
    "Take a look at row 15, the rank assigned to the mountain **Gasherbrum III** is 110, when it should have been 16. This creates a shift in the rest of the data, in addition that the assigned rank is wrong. This is not the only misplaced datapoint in the dataset:"
   ]
  },
  {
   "cell_type": "code",
   "execution_count": 14,
   "metadata": {
    "collapsed": false
   },
   "outputs": [
    {
     "name": "stdout",
     "output_type": "stream",
     "text": [
      "    Rank         Mountain  Height (m)\n",
      "20    20      Ngadi Chuli        7871\n",
      "21   111           Nuptse        7864\n",
      "22    21  Khunyang Chhish        7823\n",
      "23    22  Masherbrum / K1        7821\n"
     ]
    }
   ],
   "source": [
    "print(mountains.loc[20:23][[\"Rank\",\"Mountain\",\"Height (m)\"]])"
   ]
  },
  {
   "cell_type": "markdown",
   "metadata": {},
   "source": [
    "Here, the mountain **Nuptse** is ranked as 111, when it should be 21. Like these two data points there is more. So, I propose to do the following data cleaning:\n",
    "\n",
    "1. Create a list that starts from 1, increments by 1 and whose final value is the length of the dataset. This list will be named rank and will be used to replace the data in the **Rank** column of the dataframe.\n",
    "2. Just to make sure everything is orgnized in descending order, I will orgnize the data in descending order using the column **Height (m)**.\n",
    "3. Replace the current data in **Rank** with the list created in step 1."
   ]
  },
  {
   "cell_type": "code",
   "execution_count": 38,
   "metadata": {
    "collapsed": false
   },
   "outputs": [],
   "source": [
    "# Step 1 -- create new Rank list\n",
    "dim = mountains.shape\n",
    "new_rank = range(1,dim[0]+1)"
   ]
  },
  {
   "cell_type": "code",
   "execution_count": 39,
   "metadata": {
    "collapsed": false
   },
   "outputs": [
    {
     "name": "stdout",
     "output_type": "stream",
     "text": [
      "     Rank                     Mountain  Height (m)\n",
      "90     91                   Siguang Ri        7309\n",
      "91     92       The Crown / Huang Guan        7295\n",
      "92     93                   Gyala Peri        7294\n",
      "93     94                    Porong Ri        7292\n",
      "94     95     Baintha Brakk / The Ogre        7285\n",
      "95     96                  Yutmaru Sar        7283\n",
      "96     97          Baltistan Peak / K6        7282\n",
      "97     98  Kangpenqing / Gang Benchhen        7281\n",
      "98     99                Muztagh Tower        7276\n",
      "99    100                    Mana Peak        7272\n",
      "100   101                Dhaulagiri VI        7268\n",
      "101   102                        Diran        7266\n",
      "102   103      Labuche Kang III / East        7250\n"
     ]
    }
   ],
   "source": [
    "# Step 2 -- Sort data in descending order using the Height values\n",
    "mountains.sort_values(by=(\"Height (m)\"), ascending=False)\n",
    "\n",
    "# Just to make sure, let's look at a random chunk of data. \n",
    "print(mountains.loc[90:102][[\"Rank\",\"Mountain\",\"Height (m)\"]])"
   ]
  },
  {
   "cell_type": "code",
   "execution_count": 40,
   "metadata": {
    "collapsed": false
   },
   "outputs": [
    {
     "name": "stdout",
     "output_type": "stream",
     "text": [
      "     Rank                     Mountain  Height (m)\n",
      "90     91                   Siguang Ri        7309\n",
      "91     92       The Crown / Huang Guan        7295\n",
      "92     93                   Gyala Peri        7294\n",
      "93     94                    Porong Ri        7292\n",
      "94     95     Baintha Brakk / The Ogre        7285\n",
      "95     96                  Yutmaru Sar        7283\n",
      "96     97          Baltistan Peak / K6        7282\n",
      "97     98  Kangpenqing / Gang Benchhen        7281\n",
      "98     99                Muztagh Tower        7276\n",
      "99    100                    Mana Peak        7272\n",
      "100   101                Dhaulagiri VI        7268\n",
      "101   102                        Diran        7266\n",
      "102   103      Labuche Kang III / East        7250\n"
     ]
    }
   ],
   "source": [
    "# Step 3 -- Replace the values in the Rank column with the correct rank order (list new_rank)\n",
    "mountains.loc[0:dim[0]][\"Rank\"] = new_rank\n",
    "\n",
    "# Check\n",
    "print(mountains.loc[90:102][[\"Rank\",\"Mountain\",\"Height (m)\"]])"
   ]
  },
  {
   "cell_type": "markdown",
   "metadata": {},
   "source": [
    "If we compare the result from step 3 and step 2, we can see that the dataframe has been fixed. Now, the rank order is consistent."
   ]
  },
  {
   "cell_type": "markdown",
   "metadata": {},
   "source": [
    "## Data visualization\n",
    "\n",
    "In this section we will try to answer the questions presented at the begining using data visualization with `matplotlib`.\n",
    "\n",
    "**What is the range with the highest mountains?**\n",
    "\n",
    "One way to find out is to slice the data per range and find the lowest rank in each group. "
   ]
  },
  {
   "cell_type": "code",
   "execution_count": null,
   "metadata": {
    "collapsed": true
   },
   "outputs": [],
   "source": []
  }
 ],
 "metadata": {
  "kernelspec": {
   "display_name": "Python 2",
   "language": "python",
   "name": "python2"
  },
  "language_info": {
   "codemirror_mode": {
    "name": "ipython",
    "version": 2
   },
   "file_extension": ".py",
   "mimetype": "text/x-python",
   "name": "python",
   "nbconvert_exporter": "python",
   "pygments_lexer": "ipython2",
   "version": "2.7.11"
  }
 },
 "nbformat": 4,
 "nbformat_minor": 0
}
