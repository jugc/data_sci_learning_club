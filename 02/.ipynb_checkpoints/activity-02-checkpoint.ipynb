{
 "cells": [
  {
   "cell_type": "markdown",
   "metadata": {},
   "source": [
    "# Activity 2\n",
    "\n",
    "**Objective:** To use data visualization as an exploratory tool for the data\n",
    "\n",
    "In this activity, I will continue exploring the [Mountains dataset](https://www.kaggle.com/abcsds/highest-mountains).\n",
    "\n",
    "As a reminer, I will bring up the information of the dataset just to setup the stage for doing the analysis."
   ]
  },
  {
   "cell_type": "code",
   "execution_count": 1,
   "metadata": {
    "collapsed": false
   },
   "outputs": [
    {
     "name": "stdout",
     "output_type": "stream",
     "text": [
      "Populating the interactive namespace from numpy and matplotlib\n"
     ]
    },
    {
     "data": {
      "text/html": [
       "<div>\n",
       "<table border=\"1\" class=\"dataframe\">\n",
       "  <thead>\n",
       "    <tr style=\"text-align: right;\">\n",
       "      <th></th>\n",
       "      <th>Rank</th>\n",
       "      <th>Mountain</th>\n",
       "      <th>Height (m)</th>\n",
       "      <th>Height (ft)</th>\n",
       "      <th>Prominence (m)</th>\n",
       "      <th>Range</th>\n",
       "      <th>Coordinates</th>\n",
       "      <th>Parent mountain</th>\n",
       "      <th>First ascent</th>\n",
       "      <th>Ascents bef. 2004</th>\n",
       "      <th>Failed attempts bef. 2004</th>\n",
       "    </tr>\n",
       "  </thead>\n",
       "  <tbody>\n",
       "    <tr>\n",
       "      <th>0</th>\n",
       "      <td>1</td>\n",
       "      <td>Mount Everest / Sagarmatha / Chomolungma</td>\n",
       "      <td>8848</td>\n",
       "      <td>29029</td>\n",
       "      <td>8848</td>\n",
       "      <td>Mahalangur Himalaya</td>\n",
       "      <td>27°59′17″N 86°55′31″E﻿</td>\n",
       "      <td>NaN</td>\n",
       "      <td>1953</td>\n",
       "      <td>&gt;&gt;145</td>\n",
       "      <td>121.0</td>\n",
       "    </tr>\n",
       "    <tr>\n",
       "      <th>1</th>\n",
       "      <td>2</td>\n",
       "      <td>K2 / Qogir / Godwin Austen</td>\n",
       "      <td>8611</td>\n",
       "      <td>28251</td>\n",
       "      <td>4017</td>\n",
       "      <td>Baltoro Karakoram</td>\n",
       "      <td>35°52′53″N 76°30′48″E﻿</td>\n",
       "      <td>Mount Everest</td>\n",
       "      <td>1954</td>\n",
       "      <td>45</td>\n",
       "      <td>44.0</td>\n",
       "    </tr>\n",
       "    <tr>\n",
       "      <th>2</th>\n",
       "      <td>3</td>\n",
       "      <td>Kangchenjunga</td>\n",
       "      <td>8586</td>\n",
       "      <td>28169</td>\n",
       "      <td>3922</td>\n",
       "      <td>Kangchenjunga Himalaya</td>\n",
       "      <td>27°42′12″N 88°08′51″E﻿</td>\n",
       "      <td>Mount Everest</td>\n",
       "      <td>1955</td>\n",
       "      <td>38</td>\n",
       "      <td>24.0</td>\n",
       "    </tr>\n",
       "    <tr>\n",
       "      <th>3</th>\n",
       "      <td>4</td>\n",
       "      <td>Lhotse</td>\n",
       "      <td>8516</td>\n",
       "      <td>27940</td>\n",
       "      <td>610</td>\n",
       "      <td>Mahalangur Himalaya</td>\n",
       "      <td>27°57′42″N 86°55′59″E﻿</td>\n",
       "      <td>Mount Everest</td>\n",
       "      <td>1956</td>\n",
       "      <td>26</td>\n",
       "      <td>26.0</td>\n",
       "    </tr>\n",
       "    <tr>\n",
       "      <th>4</th>\n",
       "      <td>5</td>\n",
       "      <td>Makalu</td>\n",
       "      <td>8485</td>\n",
       "      <td>27838</td>\n",
       "      <td>2386</td>\n",
       "      <td>Mahalangur Himalaya</td>\n",
       "      <td>27°53′23″N 87°05′20″E﻿</td>\n",
       "      <td>Mount Everest</td>\n",
       "      <td>1955</td>\n",
       "      <td>45</td>\n",
       "      <td>52.0</td>\n",
       "    </tr>\n",
       "  </tbody>\n",
       "</table>\n",
       "</div>"
      ],
      "text/plain": [
       "   Rank                                  Mountain  Height (m)  Height (ft)  \\\n",
       "0     1  Mount Everest / Sagarmatha / Chomolungma        8848        29029   \n",
       "1     2                K2 / Qogir / Godwin Austen        8611        28251   \n",
       "2     3                             Kangchenjunga        8586        28169   \n",
       "3     4                                    Lhotse        8516        27940   \n",
       "4     5                                    Makalu        8485        27838   \n",
       "\n",
       "   Prominence (m)                   Range              Coordinates  \\\n",
       "0            8848     Mahalangur Himalaya  27°59′17″N 86°55′31″E﻿    \n",
       "1            4017       Baltoro Karakoram  35°52′53″N 76°30′48″E﻿    \n",
       "2            3922  Kangchenjunga Himalaya  27°42′12″N 88°08′51″E﻿    \n",
       "3             610     Mahalangur Himalaya  27°57′42″N 86°55′59″E﻿    \n",
       "4            2386     Mahalangur Himalaya  27°53′23″N 87°05′20″E﻿    \n",
       "\n",
       "  Parent mountain First ascent Ascents bef. 2004  Failed attempts bef. 2004  \n",
       "0             NaN         1953            >>145                       121.0  \n",
       "1   Mount Everest         1954                45                       44.0  \n",
       "2   Mount Everest         1955                38                       24.0  \n",
       "3   Mount Everest         1956                26                       26.0  \n",
       "4   Mount Everest         1955                45                       52.0  "
      ]
     },
     "execution_count": 1,
     "metadata": {},
     "output_type": "execute_result"
    }
   ],
   "source": [
    "%pylab inline\n",
    "import pandas as pd\n",
    "import matplotlib.pyplot as plt\n",
    "import numpy as np\n",
    "\n",
    "# Import the data from CSV as a panda DataFrame object\n",
    "mountains = pd.read_csv('../datasets/Mountains.csv')\n",
    "# Show the first 5 rows of the dataframe\n",
    "mountains.head()"
   ]
  },
  {
   "cell_type": "markdown",
   "metadata": {},
   "source": [
    "We can see that there is some interesting information about the mountains related to their geography with a mix of mountaineering history -- which is great! This is my way to learn more about the greatest mountain ranges in the world, because as a climber, that is something I should know, right? \n",
    "\n",
    "My work in this activity will focus in answering the following questions:\n",
    "1. What is the range with the highest mountains?\n",
    "2. Is there a correlation between the number of successful ascents and the height of the mountains?\n",
    "3. In which range do we find the mountains with more failed attempts than actual acsents?\n",
    "4. Is there a correlation between the Prominence and the success of an expedition?\n",
    "5. Which is the most remote mountain in the dataset?\n",
    "\n",
    "Some of the questions in the list are kind of obvious (at least to me), but I will go ahead with the exercise just to practice my coding, and who knows, I might be surprised..."
   ]
  },
  {
   "cell_type": "markdown",
   "metadata": {
    "collapsed": true
   },
   "source": [
    "## Housekeeping\n",
    "\n",
    "In the previous activity I miss an important part of data cleaning. I was naive and assumed that the data was completly clean. However, upon revision of the results I presented [here](https://nbviewer.jupyter.org/github/jugc/data_sci_learning_club/blob/master/01/activity-01.ipynb), I noticed that the actual rank for the mountain **Distaghil Sar** is not 20 as I said it was, it is actually 19. But, this means it should have been located in row number 18 (zero-indexing) of the data frame, right? In reality it is located in row 19, which doesn't make too much sense. Here is a snapshot of the first 21 rows of the dataset. I have included only the columns **Rank**, **Mountains** and **Height (m)** for the sake of clarity."
   ]
  },
  {
   "cell_type": "code",
   "execution_count": 2,
   "metadata": {
    "collapsed": false
   },
   "outputs": [
    {
     "name": "stdout",
     "output_type": "stream",
     "text": [
      "    Rank                                  Mountain  Height (m)\n",
      "0      1  Mount Everest / Sagarmatha / Chomolungma        8848\n",
      "1      2                K2 / Qogir / Godwin Austen        8611\n",
      "2      3                             Kangchenjunga        8586\n",
      "3      4                                    Lhotse        8516\n",
      "4      5                                    Makalu        8485\n",
      "5      6                                   Cho Oyu        8188\n",
      "6      7                              Dhaulagiri I        8167\n",
      "7      8                                   Manaslu        8163\n",
      "8      9                              Nanga Parbat        8126\n",
      "9     10                               Annapurna I        8091\n",
      "10    11           Gasherbrum I / Hidden Peak / K5        8080\n",
      "11    12                           Broad Peak / K3        8051\n",
      "12    13                        Gasherbrum II / K4        8035\n",
      "13    14                              Shishapangma        8027\n",
      "14    15                             Gyachung Kang        7952\n",
      "15   110                            Gasherbrum III        7946\n",
      "16    16                              Annapurna II        7937\n",
      "17    17                             Gasherbrum IV        7932\n",
      "18    18                                Himalchuli        7893\n",
      "19    19                             Distaghil Sar        7884\n",
      "20    20                               Ngadi Chuli        7871\n"
     ]
    }
   ],
   "source": [
    "print(mountains.loc[0:20][[\"Rank\",\"Mountain\",\"Height (m)\"]])"
   ]
  },
  {
   "cell_type": "markdown",
   "metadata": {},
   "source": [
    "Take a look at row 15, the rank assigned to the mountain **Gasherbrum III** is 110, when it should have been 16. This creates a shift in the rest of the data, in addition that the assigned rank is wrong. This is not the only misplaced datapoint in the dataset:"
   ]
  },
  {
   "cell_type": "code",
   "execution_count": 3,
   "metadata": {
    "collapsed": false
   },
   "outputs": [
    {
     "name": "stdout",
     "output_type": "stream",
     "text": [
      "    Rank         Mountain  Height (m)\n",
      "20    20      Ngadi Chuli        7871\n",
      "21   111           Nuptse        7864\n",
      "22    21  Khunyang Chhish        7823\n",
      "23    22  Masherbrum / K1        7821\n"
     ]
    }
   ],
   "source": [
    "print(mountains.loc[20:23][[\"Rank\",\"Mountain\",\"Height (m)\"]])"
   ]
  },
  {
   "cell_type": "markdown",
   "metadata": {},
   "source": [
    "Here, the mountain **Nuptse** is ranked as 111, when it should be 21. Like these two data points there is more. So, I propose to do the following data cleaning:\n",
    "\n",
    "1. Create a list that starts from 1, increments by 1 and whose final value is the length of the dataset. This list will be named rank and will be used to replace the data in the **Rank** column of the dataframe.\n",
    "2. Just to make sure everything is orgnized in descending order, I will orgnize the data in descending order using the column **Height (m)**.\n",
    "3. Replace the current data in **Rank** with the list created in step 1."
   ]
  },
  {
   "cell_type": "code",
   "execution_count": 4,
   "metadata": {
    "collapsed": false
   },
   "outputs": [],
   "source": [
    "# Step 1 -- create new Rank list\n",
    "dim = mountains.shape\n",
    "# the method .shape() returns a list containing the number of rows[0] and columns[1] in the data frame.\n",
    "new_rank = range(1,dim[0]+1)"
   ]
  },
  {
   "cell_type": "code",
   "execution_count": 5,
   "metadata": {
    "collapsed": false
   },
   "outputs": [
    {
     "name": "stdout",
     "output_type": "stream",
     "text": [
      "     Rank                     Mountain  Height (m)\n",
      "90     83                   Siguang Ri        7309\n",
      "91     84       The Crown / Huang Guan        7295\n",
      "92     85                   Gyala Peri        7294\n",
      "93     86                    Porong Ri        7292\n",
      "94     87     Baintha Brakk / The Ogre        7285\n",
      "95     88                  Yutmaru Sar        7283\n",
      "96     89          Baltistan Peak / K6        7282\n",
      "97     90  Kangpenqing / Gang Benchhen        7281\n",
      "98     91                Muztagh Tower        7276\n",
      "99     92                    Mana Peak        7272\n",
      "100   118                Dhaulagiri VI        7268\n",
      "101    93                        Diran        7266\n",
      "102    94      Labuche Kang III / East        7250\n"
     ]
    }
   ],
   "source": [
    "# Step 2 -- Sort data in descending order using the Height values\n",
    "mountains.sort_values(by=(\"Height (m)\"), ascending=False)\n",
    "\n",
    "# Just to make sure, let's look at a the previous example to verify that is correct. \n",
    "print(mountains.loc[90:102][[\"Rank\",\"Mountain\",\"Height (m)\"]])"
   ]
  },
  {
   "cell_type": "code",
   "execution_count": 6,
   "metadata": {
    "collapsed": false
   },
   "outputs": [
    {
     "name": "stdout",
     "output_type": "stream",
     "text": [
      "    Rank         Mountain  Height (m)\n",
      "13    14     Shishapangma        8027\n",
      "14    15    Gyachung Kang        7952\n",
      "15    16   Gasherbrum III        7946\n",
      "16    17     Annapurna II        7937\n",
      "17    18    Gasherbrum IV        7932\n",
      "18    19       Himalchuli        7893\n",
      "19    20    Distaghil Sar        7884\n",
      "20    21      Ngadi Chuli        7871\n",
      "21    22           Nuptse        7864\n",
      "22    23  Khunyang Chhish        7823\n",
      "23    24  Masherbrum / K1        7821\n"
     ]
    }
   ],
   "source": [
    "# Step 3 -- Replace the values in the Rank column with the correct rank order (list new_rank)\n",
    "mountains.loc[0:dim[0]][\"Rank\"] = new_rank\n",
    "\n",
    "# Check: Nuptse and Gasherbrum III now have the correct rank.\n",
    "print(mountains.loc[13:23][[\"Rank\",\"Mountain\",\"Height (m)\"]])"
   ]
  },
  {
   "cell_type": "markdown",
   "metadata": {},
   "source": [
    "If we compare the result from step 3 and step 2, we can see that the dataframe has been fixed. Now, the rank order is consistent."
   ]
  },
  {
   "cell_type": "markdown",
   "metadata": {},
   "source": [
    "## Data visualization\n",
    "\n",
    "In this section we will try to answer the questions presented at the begining using data visualization with `matplotlib`.\n",
    "\n",
    "**What is the range with the highest mountains?**\n",
    "\n",
    "One way to find out is to slice the data per range and find the lowest rank in each group. If we do this, there is an obvious answer: the Himalayas range will come up due to the Everest. Another way to do it is to count how many mountains per range are located in the upper 25% percentile. This is my proposed strategy:\n",
    "1. Define the catgories. In this case, I will use the method [`groupby`](http://pandas.pydata.org/pandas-docs/stable/groupby.html#iterating-through-groups) which allows me to create an additional object that splits my data frame into groups. In this case, I have chosen to use the column \"Range\" as a category for my groups.\n",
    "2. Count how many entries on each group are higher than the value correcponding to the upper 25% percentile.\n",
    "3. Plot the results in a histogram."
   ]
  },
  {
   "cell_type": "code",
   "execution_count": 15,
   "metadata": {
    "collapsed": false
   },
   "outputs": [
    {
     "name": "stdout",
     "output_type": "stream",
     "text": [
      "7775.5\n"
     ]
    },
    {
     "data": {
      "text/plain": [
       "{'Annapurna Himalaya': [9, 16, 46, 63, 109],\n",
       " 'Assam Himalaya': [29, 92],\n",
       " 'Baiku Himalaya': [97],\n",
       " 'Baltoro Karakoram': [1, 10, 11, 12, 15, 17, 48, 71, 88, 98],\n",
       " 'Batura Karakoram': [26, 42, 58, 75],\n",
       " 'Daxue Shan (Hengduan Shan)': [45],\n",
       " 'Dhaulagiri Himalaya': [6, 31, 39, 41, 77, 100, 103],\n",
       " 'Ganesh Himalaya': [67],\n",
       " 'Garhwal Himalaya': [24, 30, 65, 82, 99, 105],\n",
       " 'Hindu Kush': [34, 56, 73, 85],\n",
       " 'Hispar Karakoram': [19, 22, 27, 43, 57, 59, 69, 95, 112, 117],\n",
       " 'Jomolhari Himalaya': [86],\n",
       " 'Jugal Himalaya': [13],\n",
       " 'Kangchenjunga Himalaya': [2, 33, 61, 70, 81, 84],\n",
       " 'Kongur Shan (Eastern Pamirs)': [40, 51],\n",
       " 'Kula Kangri Himalaya': [44, 50, 108],\n",
       " 'Labuche Himalaya': [80, 102],\n",
       " 'Langtang Himalaya': [35, 93, 107, 114],\n",
       " 'Lunana Himalaya': [111, 115],\n",
       " 'Mahalangur Himalaya': [0, 3, 4, 5, 14, 21, 25, 49, 83, 87, 90, 110],\n",
       " 'Manaslu Himalaya': [7, 18, 20],\n",
       " 'Masherbrum Karakoram': [23, 38, 89, 96],\n",
       " 'Muztagata (Eastern Pamirs)': [47],\n",
       " 'Nagarze Himalaya': [113],\n",
       " 'Nalakankar Himalaya': [36],\n",
       " 'Nanga Parbat Himalaya': [8],\n",
       " 'Pamir (Akademiya Nauk Range)': [54],\n",
       " 'Panmah Karakoram': [94],\n",
       " 'Rakaposhi-Haramosh Karakoram': [28, 62, 72, 101],\n",
       " 'Rimo Karakoram': [52, 76, 106],\n",
       " 'Saltoro Karakoram': [32, 66, 74, 79],\n",
       " 'Saser Karakoram': [37, 53, 55],\n",
       " 'Siachen Karakoram': [60, 68, 78, 104, 116],\n",
       " 'Tian Shan': [64],\n",
       " 'Yengisogat Karakoram': [91]}"
      ]
     },
     "execution_count": 15,
     "metadata": {},
     "output_type": "execute_result"
    }
   ],
   "source": [
    "# Here I find the 25% percentile using the height variable\n",
    "upper25per = mountains[\"Height (m)\"].quantile(0.75)\n",
    "print(upper25per)\n",
    "# Step 1 -- Spliting the data into groups by the name of the range.\n",
    "range_group = mountains.groupby('Range')\n",
    "\n",
    "# Show the resulting groups.\n",
    "range_group.groups"
   ]
  },
  {
   "cell_type": "markdown",
   "metadata": {},
   "source": [
    "The previous result shows all the groups defined by the \"Range\" column. It is returned as a dictionary where each key is the **mountain range** and the values are lists that contains the row number for the entry associated to each mountain range. For example, if we want to see the rows for a specific range we can get it like this:"
   ]
  },
  {
   "cell_type": "code",
   "execution_count": 8,
   "metadata": {
    "collapsed": false
   },
   "outputs": [
    {
     "data": {
      "text/plain": [
       "[9, 16, 46, 63, 109]"
      ]
     },
     "execution_count": 8,
     "metadata": {},
     "output_type": "execute_result"
    }
   ],
   "source": [
    "range_group.groups['Annapurna Himalaya']"
   ]
  },
  {
   "cell_type": "code",
   "execution_count": 9,
   "metadata": {
    "collapsed": false,
    "scrolled": true
   },
   "outputs": [
    {
     "name": "stdout",
     "output_type": "stream",
     "text": [
      "{'Baltoro Karakoram': 6, 'Batura Karakoram': 1, 'Garhwal Himalaya': 1, 'Dhaulagiri Himalaya': 1, 'Nanga Parbat Himalaya': 1, 'Rakaposhi-Haramosh Karakoram': 1, 'Masherbrum Karakoram': 1, 'Hispar Karakoram': 3, 'Mahalangur Himalaya': 7, 'Jugal Himalaya': 1, 'Assam Himalaya': 1, 'Annapurna Himalaya': 2, 'Kangchenjunga Himalaya': 1, 'Manaslu Himalaya': 3}\n"
     ]
    }
   ],
   "source": [
    "# Initialize a dictionary that will be used to store the final count for the higher mountains per range!\n",
    "HighMountainRange = {}\n",
    "for name,group in range_group:\n",
    "    # Count the entries in the column \"Height (m)\" per group that are in the upper percentile.\n",
    "    tmpCount = (group[\"Height (m)\"]>upper25per).sum()\n",
    "    # Checking if it is higher than zero in case there is no mountain above the threshold\n",
    "    if tmpCount > 0:\n",
    "        # Save it on the dictionary\n",
    "        HighMountainRange[name] = (group[\"Height (m)\"]>upper25per).sum()\n",
    "    \n",
    "print(HighMountainRange)"
   ]
  },
  {
   "cell_type": "code",
   "execution_count": 19,
   "metadata": {
    "collapsed": false
   },
   "outputs": [
    {
     "data": {
      "image/png": "[encoded data removed]",
      "text/plain": [
       "<matplotlib.figure.Figure at 0x115425c50>"
      ]
     },
     "metadata": {},
     "output_type": "display_data"
    }
   ],
   "source": [
    "y_pos = np.arange(len(HighMountainRange))\n",
    "\n",
    "plt.barh(y_pos,HighMountainRange.values(),align='center', alpha=0.4)\n",
    "plt.yticks(y_pos, HighMountainRange.keys())\n",
    "plt.xlabel('Number of peaks above %s m'%(upper25per))\n",
    "plt.title('The mountain ranges with the highest mountains')\n",
    "\n",
    "plt.show()"
   ]
  },
  {
   "cell_type": "code",
   "execution_count": null,
   "metadata": {
    "collapsed": true
   },
   "outputs": [],
   "source": []
  }
 ],
 "metadata": {
  "kernelspec": {
   "display_name": "Python 2",
   "language": "python",
   "name": "python2"
  },
  "language_info": {
   "codemirror_mode": {
    "name": "ipython",
    "version": 2
   },
   "file_extension": ".py",
   "mimetype": "text/x-python",
   "name": "python",
   "nbconvert_exporter": "python",
   "pygments_lexer": "ipython2",
   "version": "2.7.11"
  }
 },
 "nbformat": 4,
 "nbformat_minor": 0
}
